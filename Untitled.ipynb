{
 "cells": [
  {
   "cell_type": "code",
   "execution_count": 5,
   "metadata": {},
   "outputs": [
    {
     "name": "stdout",
     "output_type": "stream",
     "text": [
      "Collecting torch\n",
      "  Using cached https://files.pythonhosted.org/packages/1a/3b/fa92ece1e58a6a48ec598bab327f39d69808133e5b2fb33002ca754e381e/torch-1.4.0-cp37-cp37m-manylinux1_x86_64.whl\n",
      "Installing collected packages: torch\n",
      "Successfully installed torch-1.4.0\n"
     ]
    }
   ],
   "source": [
    "!pip install torch --user"
   ]
  },
  {
   "cell_type": "code",
   "execution_count": 6,
   "metadata": {},
   "outputs": [
    {
     "name": "stdout",
     "output_type": "stream",
     "text": [
      "Requirement already satisfied: simpletransformers in /home/guerzhoy/.local/lib/python3.7/site-packages (0.20.3)\n",
      "Requirement already satisfied: tqdm in /usr/licensed/anaconda3/2019.10/lib/python3.7/site-packages (from simpletransformers) (4.36.1)\n",
      "Requirement already satisfied: numpy in /usr/licensed/anaconda3/2019.10/lib/python3.7/site-packages (from simpletransformers) (1.17.2)\n",
      "Requirement already satisfied: requests in /usr/licensed/anaconda3/2019.10/lib/python3.7/site-packages (from simpletransformers) (2.22.0)\n",
      "Requirement already satisfied: seqeval in /home/guerzhoy/.local/lib/python3.7/site-packages (from simpletransformers) (0.0.12)\n",
      "Requirement already satisfied: tensorboardx in /home/guerzhoy/.local/lib/python3.7/site-packages (from simpletransformers) (2.0)\n",
      "Requirement already satisfied: pandas in /usr/licensed/anaconda3/2019.10/lib/python3.7/site-packages (from simpletransformers) (0.25.1)\n",
      "Requirement already satisfied: transformers in /home/guerzhoy/.local/lib/python3.7/site-packages (from simpletransformers) (2.5.1)\n",
      "Requirement already satisfied: regex in /home/guerzhoy/.local/lib/python3.7/site-packages (from simpletransformers) (2020.2.20)\n",
      "Requirement already satisfied: scikit-learn in /usr/licensed/anaconda3/2019.10/lib/python3.7/site-packages (from simpletransformers) (0.21.3)\n",
      "Requirement already satisfied: scipy in /usr/licensed/anaconda3/2019.10/lib/python3.7/site-packages (from simpletransformers) (1.3.1)\n",
      "Requirement already satisfied: idna<2.9,>=2.5 in /usr/licensed/anaconda3/2019.10/lib/python3.7/site-packages (from requests->simpletransformers) (2.8)\n",
      "Requirement already satisfied: certifi>=2017.4.17 in /usr/licensed/anaconda3/2019.10/lib/python3.7/site-packages (from requests->simpletransformers) (2019.9.11)\n",
      "Requirement already satisfied: chardet<3.1.0,>=3.0.2 in /usr/licensed/anaconda3/2019.10/lib/python3.7/site-packages (from requests->simpletransformers) (3.0.4)\n",
      "Requirement already satisfied: urllib3!=1.25.0,!=1.25.1,<1.26,>=1.21.1 in /usr/licensed/anaconda3/2019.10/lib/python3.7/site-packages (from requests->simpletransformers) (1.24.2)\n",
      "Requirement already satisfied: Keras>=2.2.4 in /home/guerzhoy/.local/lib/python3.7/site-packages (from seqeval->simpletransformers) (2.3.1)\n",
      "Requirement already satisfied: six in /usr/licensed/anaconda3/2019.10/lib/python3.7/site-packages (from tensorboardx->simpletransformers) (1.12.0)\n",
      "Requirement already satisfied: protobuf>=3.8.0 in /home/guerzhoy/.local/lib/python3.7/site-packages (from tensorboardx->simpletransformers) (3.11.3)\n",
      "Requirement already satisfied: python-dateutil>=2.6.1 in /usr/licensed/anaconda3/2019.10/lib/python3.7/site-packages (from pandas->simpletransformers) (2.8.0)\n",
      "Requirement already satisfied: pytz>=2017.2 in /usr/licensed/anaconda3/2019.10/lib/python3.7/site-packages (from pandas->simpletransformers) (2019.3)\n",
      "Requirement already satisfied: sentencepiece in /home/guerzhoy/.local/lib/python3.7/site-packages (from transformers->simpletransformers) (0.1.85)\n",
      "Requirement already satisfied: tokenizers==0.5.2 in /home/guerzhoy/.local/lib/python3.7/site-packages (from transformers->simpletransformers) (0.5.2)\n",
      "Requirement already satisfied: sacremoses in /home/guerzhoy/.local/lib/python3.7/site-packages (from transformers->simpletransformers) (0.0.38)\n",
      "Requirement already satisfied: boto3 in /home/guerzhoy/.local/lib/python3.7/site-packages (from transformers->simpletransformers) (1.12.9)\n",
      "Requirement already satisfied: filelock in /usr/licensed/anaconda3/2019.10/lib/python3.7/site-packages (from transformers->simpletransformers) (3.0.12)\n",
      "Requirement already satisfied: joblib>=0.11 in /usr/licensed/anaconda3/2019.10/lib/python3.7/site-packages (from scikit-learn->simpletransformers) (0.13.2)\n",
      "Requirement already satisfied: pyyaml in /usr/licensed/anaconda3/2019.10/lib/python3.7/site-packages (from Keras>=2.2.4->seqeval->simpletransformers) (5.1.2)\n",
      "Requirement already satisfied: keras-applications>=1.0.6 in /home/guerzhoy/.local/lib/python3.7/site-packages (from Keras>=2.2.4->seqeval->simpletransformers) (1.0.8)\n",
      "Requirement already satisfied: h5py in /usr/licensed/anaconda3/2019.10/lib/python3.7/site-packages (from Keras>=2.2.4->seqeval->simpletransformers) (2.9.0)\n",
      "Requirement already satisfied: keras-preprocessing>=1.0.5 in /home/guerzhoy/.local/lib/python3.7/site-packages (from Keras>=2.2.4->seqeval->simpletransformers) (1.1.0)\n",
      "Requirement already satisfied: setuptools in /usr/licensed/anaconda3/2019.10/lib/python3.7/site-packages (from protobuf>=3.8.0->tensorboardx->simpletransformers) (41.4.0)\n",
      "Requirement already satisfied: click in /usr/licensed/anaconda3/2019.10/lib/python3.7/site-packages (from sacremoses->transformers->simpletransformers) (7.0)\n",
      "Requirement already satisfied: botocore<1.16.0,>=1.15.9 in /home/guerzhoy/.local/lib/python3.7/site-packages (from boto3->transformers->simpletransformers) (1.15.9)\n",
      "Requirement already satisfied: s3transfer<0.4.0,>=0.3.0 in /home/guerzhoy/.local/lib/python3.7/site-packages (from boto3->transformers->simpletransformers) (0.3.3)\n",
      "Requirement already satisfied: jmespath<1.0.0,>=0.7.1 in /home/guerzhoy/.local/lib/python3.7/site-packages (from boto3->transformers->simpletransformers) (0.9.5)\n",
      "Requirement already satisfied: docutils<0.16,>=0.10 in /usr/licensed/anaconda3/2019.10/lib/python3.7/site-packages (from botocore<1.16.0,>=1.15.9->boto3->transformers->simpletransformers) (0.15.2)\n"
     ]
    }
   ],
   "source": [
    "!pip install simpletransformers --user"
   ]
  },
  {
   "cell_type": "code",
   "execution_count": 7,
   "metadata": {},
   "outputs": [
    {
     "name": "stdout",
     "output_type": "stream",
     "text": [
      "Collecting sklearn\n",
      "Requirement already satisfied: scikit-learn in /usr/licensed/anaconda3/2019.10/lib/python3.7/site-packages (from sklearn) (0.21.3)\n",
      "Requirement already satisfied: scipy>=0.17.0 in /usr/licensed/anaconda3/2019.10/lib/python3.7/site-packages (from scikit-learn->sklearn) (1.3.1)\n",
      "Requirement already satisfied: numpy>=1.11.0 in /usr/licensed/anaconda3/2019.10/lib/python3.7/site-packages (from scikit-learn->sklearn) (1.17.2)\n",
      "Requirement already satisfied: joblib>=0.11 in /usr/licensed/anaconda3/2019.10/lib/python3.7/site-packages (from scikit-learn->sklearn) (0.13.2)\n",
      "Installing collected packages: sklearn\n",
      "Successfully installed sklearn-0.0\n"
     ]
    }
   ],
   "source": [
    "!pip install sklearn --user"
   ]
  },
  {
   "cell_type": "code",
   "execution_count": null,
   "metadata": {},
   "outputs": [
    {
     "name": "stdout",
     "output_type": "stream",
     "text": [
      "Converting to features started. Cache is not used.\n"
     ]
    },
    {
     "data": {
      "application/vnd.jupyter.widget-view+json": {
       "model_id": "8d080b4df3d64267b1a22699e26725b5",
       "version_major": 2,
       "version_minor": 0
      },
      "text/plain": [
       "HBox(children=(IntProgress(value=0, max=1000), HTML(value='')))"
      ]
     },
     "metadata": {},
     "output_type": "display_data"
    },
    {
     "name": "stdout",
     "output_type": "stream",
     "text": [
      "\n"
     ]
    },
    {
     "data": {
      "application/vnd.jupyter.widget-view+json": {
       "model_id": "bd106f55c89744228e265fb1cd0ccbd8",
       "version_major": 2,
       "version_minor": 0
      },
      "text/plain": [
       "HBox(children=(IntProgress(value=0, description='Epoch', max=1, style=ProgressStyle(description_width='initial…"
      ]
     },
     "metadata": {},
     "output_type": "display_data"
    },
    {
     "data": {
      "application/vnd.jupyter.widget-view+json": {
       "model_id": "2a57431a4c944f1c9e723d7d24f81fce",
       "version_major": 2,
       "version_minor": 0
      },
      "text/plain": [
       "HBox(children=(IntProgress(value=0, description='Current iteration', max=125, style=ProgressStyle(description_…"
      ]
     },
     "metadata": {},
     "output_type": "display_data"
    },
    {
     "name": "stdout",
     "output_type": "stream",
     "text": [
      "Running loss: 0.681419"
     ]
    }
   ],
   "source": [
    "from sklearn.datasets import fetch_20newsgroups\n",
    "newsgroups_train = fetch_20newsgroups(subset='train', shuffle=True) \n",
    "\n",
    "from simpletransformers.classification import ClassificationModel\n",
    "import pandas as pd\n",
    "\n",
    "\n",
    "train_data = []\n",
    "for i in range(1000):\n",
    "    train_data.append([newsgroups_train[\"data\"][i], newsgroups_train[\"target\"][i] % 2 == 0])\n",
    "\n",
    "\n",
    "valid_data = []\n",
    "for i in range(1000, 2000):\n",
    "    valid_data.append([newsgroups_train[\"data\"][i], newsgroups_train[\"target\"][i] % 2 == 0])\n",
    "\n",
    "train_df = pd.DataFrame(train_data)\n",
    "valid_df = pd.DataFrame(valid_data)\n",
    "model = ClassificationModel('roberta', 'roberta-base', use_cuda = False) # You can set class weights by using the optional weight argument\n",
    "model.use_cuda = False\n",
    "# Train the model\n",
    "model.train_model(train_df)\n",
    "\n",
    "# Evaluate the model\n",
    "\n"
   ]
  },
  {
   "cell_type": "code",
   "execution_count": null,
   "metadata": {},
   "outputs": [],
   "source": []
  },
  {
   "cell_type": "code",
   "execution_count": 24,
   "metadata": {},
   "outputs": [],
   "source": [
    "!rm -r outputs"
   ]
  },
  {
   "cell_type": "code",
   "execution_count": null,
   "metadata": {},
   "outputs": [],
   "source": []
  },
  {
   "cell_type": "code",
   "execution_count": 22,
   "metadata": {},
   "outputs": [
    {
     "name": "stdout",
     "output_type": "stream",
     "text": [
      "Converting to features started. Cache is not used.\n"
     ]
    },
    {
     "data": {
      "application/vnd.jupyter.widget-view+json": {
       "model_id": "b42d2ee3d89941eeb1e3a69ff940362d",
       "version_major": 2,
       "version_minor": 0
      },
      "text/plain": [
       "HBox(children=(IntProgress(value=0, max=1000), HTML(value='')))"
      ]
     },
     "metadata": {},
     "output_type": "display_data"
    },
    {
     "name": "stdout",
     "output_type": "stream",
     "text": [
      "\n"
     ]
    },
    {
     "data": {
      "application/vnd.jupyter.widget-view+json": {
       "model_id": "a89766e7e2f445ef9586216d919bf444",
       "version_major": 2,
       "version_minor": 0
      },
      "text/plain": [
       "HBox(children=(IntProgress(value=0, max=125), HTML(value='')))"
      ]
     },
     "metadata": {},
     "output_type": "display_data"
    },
    {
     "name": "stdout",
     "output_type": "stream",
     "text": [
      "\n",
      "{'mcc': 0.0, 'tp': 968, 'tn': 0, 'fp': 32, 'fn': 0, 'eval_loss': 0.14728317611664535}\n"
     ]
    }
   ],
   "source": [
    "result, model_outputs, wrong_predictions = model.eval_model(valid_df)"
   ]
  },
  {
   "cell_type": "code",
   "execution_count": null,
   "metadata": {},
   "outputs": [],
   "source": []
  },
  {
   "cell_type": "code",
   "execution_count": null,
   "metadata": {},
   "outputs": [],
   "source": []
  },
  {
   "cell_type": "code",
   "execution_count": null,
   "metadata": {},
   "outputs": [],
   "source": []
  },
  {
   "cell_type": "code",
   "execution_count": null,
   "metadata": {},
   "outputs": [],
   "source": []
  },
  {
   "cell_type": "code",
   "execution_count": null,
   "metadata": {},
   "outputs": [],
   "source": []
  },
  {
   "cell_type": "code",
   "execution_count": null,
   "metadata": {},
   "outputs": [],
   "source": []
  },
  {
   "cell_type": "code",
   "execution_count": null,
   "metadata": {},
   "outputs": [],
   "source": []
  },
  {
   "cell_type": "code",
   "execution_count": 10,
   "metadata": {},
   "outputs": [
    {
     "name": "stdout",
     "output_type": "stream",
     "text": [
      "Collecting torchvision\n",
      "  Using cached https://files.pythonhosted.org/packages/1c/32/cb0e4c43cd717da50258887b088471568990b5a749784c465a8a1962e021/torchvision-0.5.0-cp37-cp37m-manylinux1_x86_64.whl\n",
      "Requirement already satisfied: six in /usr/licensed/anaconda3/2019.10/lib/python3.7/site-packages (from torchvision) (1.12.0)\n",
      "Requirement already satisfied: torch==1.4.0 in /home/guerzhoy/.local/lib/python3.7/site-packages (from torchvision) (1.4.0)\n",
      "Requirement already satisfied: pillow>=4.1.1 in /usr/licensed/anaconda3/2019.10/lib/python3.7/site-packages (from torchvision) (6.2.0)\n",
      "Requirement already satisfied: numpy in /usr/licensed/anaconda3/2019.10/lib/python3.7/site-packages (from torchvision) (1.17.2)\n",
      "Installing collected packages: torchvision\n",
      "Successfully installed torchvision-0.5.0\n"
     ]
    }
   ],
   "source": [
    "!pip install torchvision --user"
   ]
  },
  {
   "cell_type": "code",
   "execution_count": 18,
   "metadata": {},
   "outputs": [
    {
     "data": {
      "text/plain": [
       "{0, 1, 2, 3, 4, 5, 6, 7, 8, 9, 10, 11, 12, 13, 14, 15, 16, 17, 18, 19}"
      ]
     },
     "execution_count": 18,
     "metadata": {},
     "output_type": "execute_result"
    }
   ],
   "source": [
    "set(newsgroups_train[\"target\"])"
   ]
  },
  {
   "cell_type": "code",
   "execution_count": 19,
   "metadata": {},
   "outputs": [
    {
     "ename": "NameError",
     "evalue": "name 'newsgroups_valid' is not defined",
     "output_type": "error",
     "traceback": [
      "\u001b[0;31m---------------------------------------------------------------------------\u001b[0m",
      "\u001b[0;31mNameError\u001b[0m                                 Traceback (most recent call last)",
      "\u001b[0;32m<ipython-input-19-fde328c73454>\u001b[0m in \u001b[0;36m<module>\u001b[0;34m\u001b[0m\n\u001b[0;32m----> 1\u001b[0;31m \u001b[0mset\u001b[0m\u001b[0;34m(\u001b[0m\u001b[0mnewsgroups_valid\u001b[0m\u001b[0;34m[\u001b[0m\u001b[0;34m\"target\"\u001b[0m\u001b[0;34m]\u001b[0m\u001b[0;34m)\u001b[0m\u001b[0;34m\u001b[0m\u001b[0;34m\u001b[0m\u001b[0m\n\u001b[0m",
      "\u001b[0;31mNameError\u001b[0m: name 'newsgroups_valid' is not defined"
     ]
    }
   ],
   "source": []
  },
  {
   "cell_type": "code",
   "execution_count": null,
   "metadata": {},
   "outputs": [],
   "source": []
  },
  {
   "cell_type": "code",
   "execution_count": null,
   "metadata": {},
   "outputs": [],
   "source": []
  },
  {
   "cell_type": "code",
   "execution_count": null,
   "metadata": {},
   "outputs": [],
   "source": []
  },
  {
   "cell_type": "code",
   "execution_count": null,
   "metadata": {},
   "outputs": [],
   "source": []
  },
  {
   "cell_type": "code",
   "execution_count": null,
   "metadata": {},
   "outputs": [],
   "source": []
  },
  {
   "cell_type": "code",
   "execution_count": null,
   "metadata": {},
   "outputs": [],
   "source": []
  }
 ],
 "metadata": {
  "kernelspec": {
   "display_name": "Python 3",
   "language": "python",
   "name": "python3"
  },
  "language_info": {
   "codemirror_mode": {
    "name": "ipython",
    "version": 3
   },
   "file_extension": ".py",
   "mimetype": "text/x-python",
   "name": "python",
   "nbconvert_exporter": "python",
   "pygments_lexer": "ipython3",
   "version": "3.7.4"
  }
 },
 "nbformat": 4,
 "nbformat_minor": 2
}
